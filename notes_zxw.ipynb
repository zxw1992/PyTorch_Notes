{
 "cells": [
  {
   "cell_type": "code",
   "execution_count": null,
   "metadata": {
    "collapsed": true
   },
   "outputs": [],
   "source": [
    "%matplotlib inline"
   ]
  },
  {
   "cell_type": "markdown",
   "metadata": {},
   "source": [
    "# Notes of PyTorch\n",
    "author: Zhang Xiwu;\n",
    "\n",
    "data: 2017.05.08-\n",
    "\n",
    "### Variable的.backward()方法\n",
    "求导的方法是调用Variable的.backward()，如果Variable是一个标量，则.backward()不需要参数；而当Variable的元素个数大于1的时候，需要对.backward()指定一个与Variable大小一样的参数。\n",
    "#### 下面的例子演示了当Variable只有一个元素的时候，如何求导："
   ]
  },
  {
   "cell_type": "code",
   "execution_count": 3,
   "metadata": {
    "collapsed": false
   },
   "outputs": [
    {
     "name": "stdout",
     "output_type": "stream",
     "text": [
      "Variable containing:\n",
      " 4.5000  4.5000\n",
      " 4.5000  4.5000\n",
      "[torch.FloatTensor of size 2x2]\n",
      "\n"
     ]
    }
   ],
   "source": [
    "import torch \n",
    "from torch.autograd import Variable\n",
    "\n",
    "x = Variable(torch.ones(2, 2), requires_grad = True) # 创建一个Variable\n",
    "\n",
    "# operations\n",
    "y = x + 2\n",
    "z = y * y * 3\n",
    "out = z.mean()\n",
    "\n",
    "# 求梯度\n",
    "out.backward()\n",
    "\n",
    "# out关于x的导数：d(out)/dx\n",
    "print(x.grad)"
   ]
  },
  {
   "cell_type": "markdown",
   "metadata": {},
   "source": [
    "#### 求导的过程：\n",
    "$out = \\displaystyle \\frac{1}{4}\\sum_i z_i$, \n",
    "$z_i = 3(x_i+2)^2$ and $z_i\\bigr\\rvert_{x_i=1} = 27$.\n",
    "\n",
    "Therefore,\n",
    "$\\displaystyle \\frac{\\partial out}{\\partial x_i} = \\frac{3}{2}(x_i+2)$, hence\n",
    "$\\displaystyle \\frac{\\partial out}{\\partial x_i}\\bigr\\rvert_{x_i=1} = \\frac{9}{2} = 4.5$."
   ]
  },
  {
   "cell_type": "markdown",
   "metadata": {},
   "source": [
    "#### Variable元素个数大于1的情况："
   ]
  },
  {
   "cell_type": "code",
   "execution_count": 20,
   "metadata": {
    "collapsed": false
   },
   "outputs": [
    {
     "name": "stdout",
     "output_type": "stream",
     "text": [
      "z= \n",
      "Variable containing:\n",
      " 27\n",
      " 75\n",
      " 27\n",
      " 48\n",
      "[torch.FloatTensor of size 4]\n",
      "\n",
      "dz/dx = \n",
      "Variable containing:\n",
      " 18.0000\n",
      " 30.0000\n",
      "  1.8000\n",
      " 24.0000\n",
      "[torch.FloatTensor of size 4]\n",
      "\n"
     ]
    }
   ],
   "source": [
    "x = Variable(torch.Tensor([1, 3, 1, 2]), requires_grad = True)\n",
    "y = x + 2\n",
    "z = y * y * 3\n",
    "print \"z= \\n\", z\n",
    "\n",
    "gradients = torch.Tensor([1,1,0.1,1])  # 需要对.backward()指定的参数\n",
    "z.backward(gradients)\n",
    "print \"dz/dx = \\n\", x.grad"
   ]
  },
  {
   "cell_type": "markdown",
   "metadata": {
    "collapsed": true
   },
   "source": [
    "注：$z = 3(x+2)^2$, so $\\displaystyle \\frac{dz}{dx_i}=6(x_i+2)$。\n",
    "\n",
    "##### Q：这里面的‘gradients’参数应该如何理解？\n",
    "Ans: \n",
    "- From Doc: gradient (Tensor) – Gradient of the differentiated function w.r.t. the data. Required only if the data has more than one element. Type and location should match these of self.data.\n",
    "\n",
    "- （个人理解）是求梯度而不是简单的求导数，‘gradients’相当于提供步长？"
   ]
  }
 ],
 "metadata": {
  "kernelspec": {
   "display_name": "Python 2",
   "language": "python",
   "name": "python2"
  },
  "language_info": {
   "codemirror_mode": {
    "name": "ipython",
    "version": 2
   },
   "file_extension": ".py",
   "mimetype": "text/x-python",
   "name": "python",
   "nbconvert_exporter": "python",
   "pygments_lexer": "ipython2",
   "version": "2.7.13"
  }
 },
 "nbformat": 4,
 "nbformat_minor": 2
}
